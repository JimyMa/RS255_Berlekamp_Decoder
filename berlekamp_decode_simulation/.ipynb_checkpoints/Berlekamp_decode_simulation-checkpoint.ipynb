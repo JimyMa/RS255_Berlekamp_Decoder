{
 "cells": [
  {
   "cell_type": "markdown",
   "metadata": {},
   "source": [
    "我们要完成一次 Berlekamp 译码算法的仿真，参数如下：\n",
    "\n",
    "- 信道类型：\n",
    "    - 加性高斯白噪声 ( Additional Gaussian White Noise， AWGN )\n",
    "- 调制方式：\n",
    "    - BPSK\n",
    "- 编码方式\n",
    "    - RS ( 255, 239, 17 )\n",
    "    - RS ( 255, 223, 33 )\n",
    "    - Raw BPSK\n",
    "- $E_b / N_0$\n",
    "    - RS ( 255, 239, 17 ) : 4.0 ~ 7.5 dB\n",
    "    - RS ( 255, 223, 33 ) : 4.0 ~ 7.0 dB \n",
    "- 仿真次数\n",
    "    - 初始为 1e5 个块，以后每增加 1 dB 增加 10 倍。"
   ]
  },
  {
   "cell_type": "code",
   "execution_count": 1,
   "metadata": {},
   "outputs": [],
   "source": [
    "import numpy as np\n",
    "import matplotlib.pyplot as plt\n",
    "import RS255"
   ]
  },
  {
   "cell_type": "code",
   "execution_count": 2,
   "metadata": {},
   "outputs": [],
   "source": [
    "def EbN02Amp(EbN0db, N0, num_n, num_k):\n",
    "    EbN0 = 10 ** (EbN0db / 10.0)\n",
    "    Eb = EbN0 * N0\n",
    "    return np.sqrt(2 * Eb / num_n * num_k)"
   ]
  },
  {
   "cell_type": "markdown",
   "metadata": {},
   "source": [
    "为了保证 $Eb/N0$ 换算成星座映射的幅值是正确的，首先对BPSK的误码率进行仿真分析。"
   ]
  },
  {
   "cell_type": "code",
   "execution_count": 3,
   "metadata": {},
   "outputs": [],
   "source": [
    "sim_psk_db = np.arange(0, 10.5, 0.5)\n",
    "N0 = 1.0\n",
    "amp = EbN02Amp(sim_psk_db, N0, 1, 1)\n",
    "ber_psk = np.zeros(amp.shape)\n",
    "bit_num = 100000000\n",
    "\n",
    "for index, value in enumerate(amp):\n",
    "    sequence_received = (np.random.randn(bit_num) * np.sqrt(N0) - value) > 0\n",
    "    error_num = np.sum(sequence_received)\n",
    "    ber_psk[index] = error_num / bit_num\n",
    "    "
   ]
  },
  {
   "cell_type": "code",
   "execution_count": 4,
   "metadata": {},
   "outputs": [
    {
     "data": {
      "image/png": "[encoded data removed]",
      "text/plain": [
       "<Figure size 432x288 with 1 Axes>"
      ]
     },
     "metadata": {},
     "output_type": "display_data"
    }
   ],
   "source": [
    "plt.semilogy(sim_psk_db, ber_psk, marker=\"o\")\n",
    "plt.grid(True)\n",
    "plt.xlim(0, 10)\n",
    "plt.ylim(1e-6, 1e-1)\n",
    "plt.show()"
   ]
  },
  {
   "cell_type": "markdown",
   "metadata": {},
   "source": [
    "可以看到误码率为 1e-5 的时，$E_b / N_0$ 大概为 9.6 dB。"
   ]
  },
  {
   "cell_type": "markdown",
   "metadata": {},
   "source": [
    "之后对 RS(255, 255, 239, 17) 的误符号率和误块率进行统计。"
   ]
  },
  {
   "cell_type": "code",
   "execution_count": null,
   "metadata": {},
   "outputs": [
    {
     "name": "stdout",
     "output_type": "stream",
     "text": [
      "db =  4.0\n",
      "SER:  0.11898039215686275\n",
      "BLER:  1.0\n",
      "\n",
      "db =  4.4\n",
      "SER:  0.09803921568627451\n",
      "BLER:  1.0\n",
      "\n",
      "db =  4.800000000000001\n",
      "SER:  0.06886274509803922\n",
      "BLER:  0.97\n",
      "\n",
      "db =  5.200000000000001\n",
      "SER:  0.05250980392156863\n",
      "BLER:  0.93\n",
      "\n",
      "db =  5.600000000000001\n",
      "SER:  0.027333333333333334\n",
      "BLER:  0.59\n",
      "\n",
      "db =  6.000000000000002\n",
      "SER:  0.008941176470588235\n",
      "BLER:  0.21\n",
      "\n",
      "db =  6.400000000000002\n",
      "SER:  0.0017490196078431372\n",
      "BLER:  0.044\n",
      "\n",
      "db =  6.8000000000000025\n",
      "SER:  0.00011764705882352942\n",
      "BLER:  0.0028\n",
      "\n",
      "db =  7.200000000000003\n",
      "SER:  2.352941176470588e-06\n",
      "BLER:  6e-05\n",
      "\n",
      "db =  7.600000000000003\n"
     ]
    }
   ],
   "source": [
    "db_255_239_17 = np.arange(4.0, 8.0, 0.4)\n",
    "seq_num_255_239_17 = [100, 100, 100, 100, 100, 100, 500, 5000, 50000, 5000000]\n",
    "amp = EbN02Amp(db_255_239_17, N0, 255, 239)\n",
    "SER_255_239_17 = np.zeros(db_255_239_17.shape)\n",
    "BLER_255_239_17 = np.zeros(db_255_239_17.shape)\n",
    "for index, value in enumerate(amp):\n",
    "    symbol_num = 0\n",
    "    block_num = 0\n",
    "    se_num = 0\n",
    "    ble_num = 0\n",
    "    print(\"db = \", db_255_239_17[index])\n",
    "    for k in range(seq_num_255_239_17[index]):\n",
    "        symbol_seq = np.zeros(255, dtype=np.uint16)\n",
    "        rec_symbol_seq = np.zeros(255, dtype=np.uint16)\n",
    "        bit_seq = np.random.randn(255 * 8) * np.sqrt(N0) - value\n",
    "        for i in range(255):\n",
    "            symbol = int(0)\n",
    "            for j in range(8):\n",
    "                symbol += (1 << j if bit_seq[i * 8 + j] > 0 else 0)\n",
    "            symbol_seq[i] = symbol\n",
    "        RS255.berlekamp_decoder(8, symbol_seq, rec_symbol_seq)\n",
    "        symbol_error_flag = rec_symbol_seq > 0\n",
    "        block_se_num = np.sum(symbol_error_flag[0:239])\n",
    "        se_num += block_se_num\n",
    "        ble_num += ( 1 if block_se_num > 0 else 0 )\n",
    "        symbol_num += 255\n",
    "        block_num += 1\n",
    "        rec_error_num = np.sum(symbol_seq > 0)\n",
    "        if block_se_num != 0 and rec_error_num <= 8:\n",
    "            print(\"error\")\n",
    "    SER_255_239_17[index] = se_num / symbol_num\n",
    "    BLER_255_239_17[index] = ble_num / block_num\n",
    "    print(\"SER: \", SER_255_239_17[index])\n",
    "    print(\"BLER: \", BLER_255_239_17[index])\n",
    "    print()"
   ]
  },
  {
   "cell_type": "code",
   "execution_count": null,
   "metadata": {},
   "outputs": [],
   "source": [
    "plt.semilogy(db_255_239_17, SER_255_239_17, marker=\"o\", color=\"orange\")\n",
    "plt.semilogy(db_255_239_17, BLER_255_239_17, marker=\"s\", color=\"orange\")\n",
    "plt.semilogy(sim_psk_db, ber_psk)\n",
    "plt.grid(True)\n",
    "plt.xlim(3, 10.0)\n",
    "plt.ylim(1e-6, 1)\n",
    "plt.show()"
   ]
  },
  {
   "cell_type": "code",
   "execution_count": null,
   "metadata": {},
   "outputs": [],
   "source": [
    "db_255_223_33 = np.arange(4.0, 7.6, 0.4)\n",
    "seq_num_255_223_33 = [100, 100, 100, 100, 300, 1000, 10000, 50000, 5000000]\n",
    "amp = EbN02Amp(db_255_223_33, N0, 255, 223)\n",
    "SER_255_223_33 = np.zeros(db_255_223_33.shape)\n",
    "BLER_255_223_33 = np.zeros(db_255_223_33.shape)\n",
    "for index, value in enumerate(amp):\n",
    "    symbol_num = 0\n",
    "    block_num5.5 = 0\n",
    "    se_num = 0\n",
    "    ble_num = 0\n",
    "    seq_num = 100 * 10 ** ( int(db_255_223_33[index] - 4.0) )\n",
    "    print(\"db = \", db_255_223_33[index])\n",
    "    for k in range(seq_num_255_223_33[index]):\n",
    "        symbol_seq = np.zeros(255, dtype=np.uint16)\n",
    "        rec_symbol_seq = np.zeros(255, dtype=np.uint16)\n",
    "        bit_seq = np.random.randn(255 * 8) * np.sqrt(N0) - value\n",
    "        for i in range(255):\n",
    "            symbol = int(0)\n",
    "            for j in range(8):\n",
    "                symbol += (1 << j if bit_seq[i * 8 + j] > 0 else 0)\n",
    "            symbol_seq[i] = symbol\n",
    "        RS255.berlekamp_decoder(16, symbol_seq, rec_symbol_seq)\n",
    "        symbol_error_flag = rec_symbol_seq > 0\n",
    "        block_se_num = np.sum(symbol_error_flag[0:223])\n",
    "        se_num += block_se_num\n",
    "        ble_num += ( 1 if block_se_num > 0 else 0 )\n",
    "        symbol_num += 255\n",
    "        block_num += 1\n",
    "        rec_error_num = np.sum(symbol_seq > 0)\n",
    "        if block_se_num != 0 and rec_error_num <= 16:\n",
    "            print(\"error\")\n",
    "    SER_255_223_33[index] = se_num / symbol_num\n",
    "    BLER_255_223_33[index] = ble_num / block_num\n",
    "    print(\"SER: \", SER_255_223_33[index])\n",
    "    print(\"BLER: \", BLER_255_223_33[index])\n",
    "    print()"
   ]
  },
  {
   "cell_type": "code",
   "execution_count": null,
   "metadata": {},
   "outputs": [],
   "source": [
    "plt.semilogy(db_255_223_33, SER_255_223_33, marker=\"o\", color=\"r\")\n",
    "plt.semilogy(db_255_223_33, BLER_255_223_33, marker=\"s\", color=\"r\")\n",
    "plt.semilogy(sim_psk_db, ber_psk)\n",
    "plt.grid(True)\n",
    "plt.xlim(3, 10.0)\n",
    "plt.ylim(1e-6, 1)\n",
    "plt.show()"
   ]
  },
  {
   "cell_type": "code",
   "execution_count": null,
   "metadata": {},
   "outputs": [],
   "source": []
  },
  {
   "cell_type": "code",
   "execution_count": null,
   "metadata": {},
   "outputs": [],
   "source": []
  }
 ],
 "metadata": {
  "kernelspec": {
   "display_name": "Python 3",
   "language": "python",
   "name": "python3"
  },
  "language_info": {
   "codemirror_mode": {
    "name": "ipython",
    "version": 3
   },
   "file_extension": ".py",
   "mimetype": "text/x-python",
   "name": "python",
   "nbconvert_exporter": "python",
   "pygments_lexer": "ipython3",
   "version": "3.6.5"
  }
 },
 "nbformat": 4,
 "nbformat_minor": 2
}
