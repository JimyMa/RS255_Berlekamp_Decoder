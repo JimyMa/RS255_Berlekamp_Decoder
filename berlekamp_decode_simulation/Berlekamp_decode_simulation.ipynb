{
 "cells": [
  {
   "cell_type": "markdown",
   "metadata": {},
   "source": [
    "我们要完成一次 Berlekamp 译码算法的仿真，参数如下：\n",
    "\n",
    "- 信道类型：\n",
    "    - 加性高斯白噪声 ( Additional Gaussian White Noise， AWGN )\n",
    "- 调制方式：\n",
    "    - BPSK\n",
    "- 编码方式\n",
    "    - RS ( 255, 239, 17 )\n",
    "    - RS ( 255, 223, 33 )\n",
    "    - Raw BPSK\n",
    "- $E_b / N_0$\n",
    "    - RS ( 255, 239, 17 ) : 4.0 ~ 7.5 dB\n",
    "    - RS ( 255, 223, 33 ) : 4.0 ~ 7.0 dB \n",
    "- 仿真次数\n",
    "    - 初始为 1e5 个块，以后每增加 1 dB 增加 10 倍。"
   ]
  },
  {
   "cell_type": "code",
   "execution_count": 1,
   "metadata": {},
   "outputs": [],
   "source": [
    "import numpy as np\n",
    "import matplotlib.pyplot as plt\n",
    "import RS255"
   ]
  },
  {
   "cell_type": "code",
   "execution_count": 2,
   "metadata": {},
   "outputs": [],
   "source": [
    "def EbN02Amp(EbN0db, N0, num_n, num_k):\n",
    "    EbN0 = 10 ** (EbN0db / 10.0)\n",
    "    Eb = EbN0 * N0\n",
    "    return np.sqrt(2 * Eb / num_n * num_k)"
   ]
  },
  {
   "cell_type": "markdown",
   "metadata": {},
   "source": [
    "为了保证 $Eb/N0$ 换算成星座映射的幅值是正确的，首先对BPSK的误码率进行仿真分析。"
   ]
  },
  {
   "cell_type": "code",
   "execution_count": 3,
   "metadata": {},
   "outputs": [],
   "source": [
    "sim_psk_db = np.arange(0, 10.5, 0.5)\n",
    "N0 = 1.0\n",
    "amp = EbN02Amp(sim_psk_db, N0, 1, 1)\n",
    "ber_psk = np.zeros(amp.shape)\n",
    "bit_num = 10000000\n",
    "\n",
    "for index, value in enumerate(amp):\n",
    "    sequence_received = (np.random.randn(bit_num) * np.sqrt(N0) - value) > 0\n",
    "    error_num = np.sum(sequence_received)\n",
    "    ber_psk[index] = error_num / bit_num\n",
    "    "
   ]
  },
  {
   "cell_type": "code",
   "execution_count": 4,
   "metadata": {},
   "outputs": [
    {
     "data": {
      "image/png": "[encoded data removed]",
      "text/plain": [
       "<Figure size 432x288 with 1 Axes>"
      ]
     },
     "metadata": {},
     "output_type": "display_data"
    }
   ],
   "source": [
    "plt.semilogy(sim_psk_db, ber_psk, marker=\"o\")\n",
    "plt.grid(True)\n",
    "plt.xlim(0, 10)\n",
    "plt.ylim(1e-6, 1e-1)\n",
    "plt.show()"
   ]
  },
  {
   "cell_type": "markdown",
   "metadata": {},
   "source": [
    "可以看到误码率为 1e-5 的时，$E_b / N_0$ 大概为 9.6 dB。"
   ]
  },
  {
   "cell_type": "markdown",
   "metadata": {},
   "source": [
    "之后对 RS(255, 255, 239, 17) 的误符号率和误块率进行统计。"
   ]
  },
  {
   "cell_type": "code",
   "execution_count": 89,
   "metadata": {},
   "outputs": [
    {
     "name": "stdout",
     "output_type": "stream",
     "text": [
      "db =  4.4\n",
      "SER:  0.08776470588235294\n",
      "BLER:  1.0\n",
      "\n",
      "db =  4.6000000000000005\n",
      "SER:  0.07454901960784313\n",
      "BLER:  1.0\n",
      "\n",
      "db =  4.800000000000001\n",
      "SER:  0.06513725490196079\n",
      "BLER:  0.95\n",
      "\n",
      "db =  5.000000000000001\n",
      "SER:  0.058\n",
      "BLER:  0.95\n",
      "\n",
      "db =  5.200000000000001\n",
      "SER:  0.04749019607843137\n",
      "BLER:  0.85\n",
      "\n",
      "db =  5.400000000000001\n",
      "SER:  0.036588235294117644\n",
      "BLER:  0.77\n",
      "\n",
      "db =  5.600000000000001\n",
      "SER:  0.024705882352941175\n",
      "BLER:  0.54\n",
      "\n",
      "db =  5.800000000000002\n",
      "SER:  0.016431372549019607\n",
      "BLER:  0.39\n",
      "\n",
      "db =  6.000000000000002\n",
      "SER:  0.006941176470588235\n",
      "BLER:  0.17\n",
      "\n",
      "db =  6.200000000000002\n",
      "SER:  0.003156862745098039\n",
      "BLER:  0.085\n",
      "\n",
      "db =  6.400000000000002\n",
      "SER:  0.0012019607843137255\n",
      "BLER:  0.031\n",
      "\n",
      "db =  6.600000000000002\n",
      "SER:  0.00031764705882352944\n",
      "BLER:  0.008\n",
      "\n",
      "db =  6.8000000000000025\n",
      "SER:  6.823529411764705e-05\n",
      "BLER:  0.0018\n",
      "\n",
      "db =  7.000000000000003\n",
      "SER:  2.0549019607843136e-05\n",
      "BLER:  0.00056\n",
      "\n",
      "db =  7.200000000000003\n",
      "SER:  2.1568627450980393e-06\n",
      "BLER:  6e-05\n",
      "\n",
      "db =  7.400000000000003\n",
      "SER:  3.480392156862745e-07\n",
      "BLER:  1e-05\n",
      "\n"
     ]
    }
   ],
   "source": [
    "db_255_239_17 = np.arange(4.4, 7.6, 0.2)\n",
    "seq_num_255_239_17 = [10000, 10000, 10000, 10000, 10000, 10000, 10000, 10000, 10000, 10000, 10000, 10000, 10000, 50000, 100000, 800000]\n",
    "amp = EbN02Amp(db_255_239_17, N0, 255, 239)\n",
    "SER_255_239_17 = np.zeros(db_255_239_17.shape)\n",
    "BLER_255_239_17 = np.zeros(db_255_239_17.shape)\n",
    "for index, value in enumerate(amp):\n",
    "    symbol_num = 0\n",
    "    block_num = 0\n",
    "    se_num = 0\n",
    "    ble_num = 0\n",
    "    print(\"db = \", db_255_239_17[index])\n",
    "    for k in range(seq_num_255_239_17[index]):\n",
    "        symbol_seq = np.zeros(255, dtype=np.uint16)\n",
    "        rec_symbol_seq = np.zeros(255, dtype=np.uint16)\n",
    "        bit_seq = np.random.randn(255 * 8) * np.sqrt(N0) - value\n",
    "        for i in range(255):\n",
    "            symbol = int(0)\n",
    "            for j in range(8):\n",
    "                symbol += (1 << j if bit_seq[i * 8 + j] > 0 else 0)\n",
    "            symbol_seq[i] = symbol\n",
    "        RS255.berlekamp_decoder(8, symbol_seq, rec_symbol_seq)\n",
    "        symbol_error_flag = rec_symbol_seq > 0\n",
    "        block_se_num = np.sum(symbol_error_flag[0:239])\n",
    "        se_num += block_se_num\n",
    "        ble_num += ( 1 if block_se_num > 0 else 0 )\n",
    "        symbol_num += 255\n",
    "        block_num += 1\n",
    "        rec_error_num = np.sum(symbol_seq > 0)\n",
    "        if block_se_num != 0 and rec_error_num <= 8:\n",
    "            print(\"error\")\n",
    "    SER_255_239_17[index] = se_num / symbol_num\n",
    "    BLER_255_239_17[index] = ble_num / block_num\n",
    "    print(\"SER: \", SER_255_239_17[index])\n",
    "    print(\"BLER: \", BLER_255_239_17[index])\n",
    "    print()"
   ]
  },
  {
   "cell_type": "markdown",
   "metadata": {},
   "source": [
    "得到的仿真曲线如下："
   ]
  },
  {
   "cell_type": "code",
   "execution_count": 122,
   "metadata": {},
   "outputs": [
    {
     "data": {
      "image/png": "[encoded data removed]",
      "text/plain": [
       "<Figure size 432x288 with 1 Axes>"
      ]
     },
     "metadata": {},
     "output_type": "display_data"
    }
   ],
   "source": [
    "plt.semilogy(db_255_239_17,\n",
    "                    SER_255_239_17,\n",
    "                    marker=\"o\",\n",
    "                    color=\"orange\",\n",
    "                    markersize=4,\n",
    "                    lw=1)\n",
    "plt.semilogy(db_255_239_17,\n",
    "                    BLER_255_239_17,\n",
    "                    marker=\"s\",\n",
    "                    color=\"orange\",\n",
    "                    markersize=4,\n",
    "                    lw=1)\n",
    "plt.semilogy(sim_psk_db, ber_psk, lw=1)\n",
    "plt.grid(True, which=\"both\", color='0.9', ls=\"--\")\n",
    "plt.xlim(3, 10.0)\n",
    "plt.ylim(1e-7, 1)\n",
    "plt.show()"
   ]
  },
  {
   "cell_type": "markdown",
   "metadata": {},
   "source": [
    "之后对 RS(255, 223, 33) 的误符号率和误块率进行统计。"
   ]
  },
  {
   "cell_type": "code",
   "execution_count": 93,
   "metadata": {},
   "outputs": [
    {
     "name": "stdout",
     "output_type": "stream",
     "text": [
      "db =  4.4\n",
      "SER:  0.09654901960784314\n",
      "BLER:  0.98\n",
      "\n",
      "db =  4.6000000000000005\n",
      "SER:  0.08168627450980392\n",
      "BLER:  0.95\n",
      "\n",
      "db =  4.800000000000001\n",
      "SER:  0.06133333333333333\n",
      "BLER:  0.77\n",
      "\n",
      "db =  5.000000000000001\n",
      "SER:  0.04827450980392157\n",
      "BLER:  0.65\n",
      "\n",
      "db =  5.200000000000001\n",
      "SER:  0.03050980392156863\n",
      "BLER:  0.43\n",
      "\n",
      "db =  5.400000000000001\n",
      "SER:  0.015267973856209151\n",
      "BLER:  0.22666666666666666\n",
      "\n",
      "db =  5.600000000000001\n",
      "SER:  0.0045\n",
      "BLER:  0.06625\n",
      "\n",
      "db =  5.800000000000002\n",
      "SER:  0.001780392156862745\n",
      "BLER:  0.027\n",
      "\n",
      "db =  6.000000000000002\n",
      "SER:  0.00033490196078431373\n",
      "BLER:  0.0054\n",
      "\n",
      "db =  6.200000000000002\n",
      "SER:  4.862745098039216e-05\n",
      "BLER:  0.00075\n",
      "\n",
      "db =  6.400000000000002\n",
      "SER:  6.058823529411764e-06\n",
      "BLER:  9.5e-05\n",
      "\n",
      "db =  6.600000000000002\n",
      "SER:  2.941176470588235e-07\n",
      "BLER:  5e-06\n",
      "\n"
     ]
    }
   ],
   "source": [
    "db_255_223_33 = np.arange(4.4, 6.8, 0.2)\n",
    "seq_num_255_223_33 = [20000, 20000, 20000, 20000, 20000, 20000, 20000, 20000, 20000, 20000, 200000, 800000]\n",
    "amp = EbN02Amp(db_255_223_33, N0, 255, 223)\n",
    "SER_255_223_33 = np.zeros(db_255_223_33.shape)\n",
    "BLER_255_223_33 = np.zeros(db_255_223_33.shape)\n",
    "for index, value in enumerate(amp):\n",
    "    symbol_num = 0\n",
    "    block_num = 0\n",
    "    se_num = 0\n",
    "    ble_num = 0\n",
    "    seq_num = 100 * 10 ** ( int(db_255_223_33[index] - 4.0) )\n",
    "    print(\"db = \", db_255_223_33[index])\n",
    "    for k in range(seq_num_255_223_33[index]):\n",
    "        symbol_seq = np.zeros(255, dtype=np.uint16)\n",
    "        rec_symbol_seq = np.zeros(255, dtype=np.uint16)\n",
    "        bit_seq = np.random.randn(255 * 8) * np.sqrt(N0) - value\n",
    "        for i in range(255):\n",
    "            symbol = int(0)\n",
    "            for j in range(8):\n",
    "                symbol += (1 << j if bit_seq[i * 8 + j] > 0 else 0)\n",
    "            symbol_seq[i] = symbol\n",
    "        RS255.berlekamp_decoder(16, symbol_seq, rec_symbol_seq)\n",
    "        symbol_error_flag = rec_symbol_seq > 0\n",
    "        block_se_num = np.sum(symbol_error_flag[0:223])\n",
    "        se_num += block_se_num\n",
    "        ble_num += ( 1 if block_se_num > 0 else 0 )\n",
    "        symbol_num += 255\n",
    "        block_num += 1\n",
    "        rec_error_num = np.sum(symbol_seq > 0)\n",
    "        if block_se_num != 0 and rec_error_num <= 16:\n",
    "            print(\"error\")\n",
    "    SER_255_223_33[index] = se_num / symbol_num\n",
    "    BLER_255_223_33[index] = ble_num / block_num\n",
    "    print(\"SER: \", SER_255_223_33[index])\n",
    "    print(\"BLER: \", BLER_255_223_33[index])\n",
    "    print()"
   ]
  },
  {
   "cell_type": "markdown",
   "metadata": {},
   "source": [
    "得到的仿真曲线如下："
   ]
  },
  {
   "cell_type": "code",
   "execution_count": 121,
   "metadata": {},
   "outputs": [
    {
     "data": {
      "image/png": "[encoded data removed]",
      "text/plain": [
       "<Figure size 432x288 with 1 Axes>"
      ]
     },
     "metadata": {},
     "output_type": "display_data"
    }
   ],
   "source": [
    "plt.semilogy(db_255_223_33,\n",
    "                    SER_255_223_33,\n",
    "                    marker=\"o\",\n",
    "                    color=\"r\",\n",
    "                    markersize=4,\n",
    "                    lw=1)\n",
    "plt.semilogy(db_255_223_33,\n",
    "                    BLER_255_223_33,\n",
    "                    marker=\"s\",\n",
    "                    color=\"r\",\n",
    "                    markersize=4,\n",
    "                    lw=1)\n",
    "plt.semilogy(sim_psk_db, ber_psk, lw=1)\n",
    "plt.grid(True, which=\"both\", color='0.9', ls=\"--\")\n",
    "plt.xlim(3, 10.0)\n",
    "plt.ylim(1e-7, 1)\n",
    "plt.show() "
   ]
  },
  {
   "cell_type": "code",
   "execution_count": 120,
   "metadata": {},
   "outputs": [
    {
     "data": {
      "image/png": "[encoded data removed]",
      "text/plain": [
       "<Figure size 417.6x288 with 1 Axes>"
      ]
     },
     "metadata": {},
     "output_type": "display_data"
    }
   ],
   "source": [
    "plt.figure(figsize = (5.8, 4))\n",
    "f1, = plt.semilogy(db_255_239_17,\n",
    "                            SER_255_239_17,\n",
    "                            marker=\"o\",\n",
    "                            color=\"orange\",\n",
    "                            markersize=4,\n",
    "                            lw=1)\n",
    "f2, = plt.semilogy(db_255_239_17,\n",
    "                            BLER_255_239_17,\n",
    "                            marker=\"s\",\n",
    "                            color=\"orange\",\n",
    "                            markersize=4,\n",
    "                            lw=1)\n",
    "f3, = plt.semilogy(db_255_223_33,\n",
    "                            SER_255_223_33,\n",
    "                            marker=\"o\",\n",
    "                            color=\"violet\",\n",
    "                            markersize=4,\n",
    "                            lw=1, \n",
    "                            label=\"RS(255, 223, 33) SER\")\n",
    "f4, = plt.semilogy(db_255_223_33,\n",
    "                            BLER_255_223_33,\n",
    "                            marker=\"s\",\n",
    "                            color=\"violet\",\n",
    "                            markersize=4,\n",
    "                            lw=1)\n",
    "f5, = plt.semilogy(sim_psk_db, ber_psk, lw=1)\n",
    "plt.legend(handles= [f1, f2, f3, f4, f5], \n",
    "                 labels = [\n",
    "                     \"RS(255, 239, 17) SER\",\n",
    "                     \"RS(255, 239, 17) BLER\",\n",
    "                     \"RS(255, 223, 33) SER\",\n",
    "                     \"RS(255, 223, 33) BLER\", \n",
    "                     \"Raw BPSK\"],\n",
    "                 loc='best',\n",
    "                 prop={'size': 8.5})\n",
    "plt.grid(True, which=\"both\", color='0.9', ls=\"--\")\n",
    "plt.xlim(3, 10.0)\n",
    "plt.ylim(1e-7, 1)\n",
    "plt.show() "
   ]
  },
  {
   "cell_type": "code",
   "execution_count": 131,
   "metadata": {},
   "outputs": [],
   "source": [
    "import scipy.io as sio\n",
    "sio.savemat('RS_255_239_17.mat', {'dB': db_255_239_17,'BLER': SER_255_239_17,'SER': SER_255_239_17})\n",
    "sio.savemat('RS_255_223_33.mat', {'dB': db_255_223_33,'BLER': SER_255_223_33,'SER': SER_255_223_33})"
   ]
  },
  {
   "cell_type": "code",
   "execution_count": 132,
   "metadata": {},
   "outputs": [],
   "source": [
    "a = sio.loadmat(\"RS_255_239_17.mat\")\n",
    "b = sio.loadmat(\"RS_255_223_33.mat\")"
   ]
  },
  {
   "cell_type": "code",
   "execution_count": 130,
   "metadata": {},
   "outputs": [
    {
     "data": {
      "text/plain": [
       "{'__header__': b'MATLAB 5.0 MAT-file Platform: posix, Created on: Tue Jul 17 12:47:18 2018',\n",
       " '__version__': '1.0',\n",
       " '__globals__': [],\n",
       " 'dB': array([[4.4, 4.6, 4.8, 5. , 5.2, 5.4, 5.6, 5.8, 6. , 6.2, 6.4, 6.6, 6.8,\n",
       "         7. , 7.2, 7.4]]),\n",
       " 'BLER': array([[8.77647059e-02, 7.45490196e-02, 6.51372549e-02, 5.80000000e-02,\n",
       "         4.74901961e-02, 3.65882353e-02, 2.47058824e-02, 1.64313725e-02,\n",
       "         6.94117647e-03, 3.15686275e-03, 1.20196078e-03, 3.17647059e-04,\n",
       "         6.82352941e-05, 1.52941176e-05, 2.15686275e-06, 3.48039216e-07]]),\n",
       " 'SER': array([[8.77647059e-02, 7.45490196e-02, 6.51372549e-02, 5.80000000e-02,\n",
       "         4.74901961e-02, 3.65882353e-02, 2.47058824e-02, 1.64313725e-02,\n",
       "         6.94117647e-03, 3.15686275e-03, 1.20196078e-03, 3.17647059e-04,\n",
       "         6.82352941e-05, 1.52941176e-05, 2.15686275e-06, 3.48039216e-07]])}"
      ]
     },
     "execution_count": 130,
     "metadata": {},
     "output_type": "execute_result"
    }
   ],
   "source": [
    "a"
   ]
  },
  {
   "cell_type": "code",
   "execution_count": 133,
   "metadata": {},
   "outputs": [
    {
     "data": {
      "text/plain": [
       "{'__header__': b'MATLAB 5.0 MAT-file Platform: posix, Created on: Tue Jul 17 12:48:53 2018',\n",
       " '__version__': '1.0',\n",
       " '__globals__': [],\n",
       " 'dB': array([[4.4, 4.6, 4.8, 5. , 5.2, 5.4, 5.6, 5.8, 6. , 6.2, 6.4, 6.6]]),\n",
       " 'BLER': array([[9.65490196e-02, 8.16862745e-02, 6.13333333e-02, 4.82745098e-02,\n",
       "         3.05098039e-02, 1.52679739e-02, 5.24862745e-03, 1.78039216e-03,\n",
       "         3.34901961e-04, 4.86274510e-05, 6.05882353e-06, 2.94117647e-07]]),\n",
       " 'SER': array([[9.65490196e-02, 8.16862745e-02, 6.13333333e-02, 4.82745098e-02,\n",
       "         3.05098039e-02, 1.52679739e-02, 5.24862745e-03, 1.78039216e-03,\n",
       "         3.34901961e-04, 4.86274510e-05, 6.05882353e-06, 2.94117647e-07]])}"
      ]
     },
     "execution_count": 133,
     "metadata": {},
     "output_type": "execute_result"
    }
   ],
   "source": [
    "b"
   ]
  },
  {
   "cell_type": "code",
   "execution_count": null,
   "metadata": {},
   "outputs": [],
   "source": []
  }
 ],
 "metadata": {
  "kernelspec": {
   "display_name": "Python 3",
   "language": "python",
   "name": "python3"
  },
  "language_info": {
   "codemirror_mode": {
    "name": "ipython",
    "version": 3
   },
   "file_extension": ".py",
   "mimetype": "text/x-python",
   "name": "python",
   "nbconvert_exporter": "python",
   "pygments_lexer": "ipython3",
   "version": "3.6.5"
  }
 },
 "nbformat": 4,
 "nbformat_minor": 2
}
